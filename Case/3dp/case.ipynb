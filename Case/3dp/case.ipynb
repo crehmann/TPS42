{
 "cells": [
  {
   "cell_type": "markdown",
   "id": "e2eb3898-5efd-469c-88a0-765a50e62369",
   "metadata": {},
   "source": [
    "# Case\n",
    "## Imports"
   ]
  },
  {
   "cell_type": "code",
   "execution_count": null,
   "id": "b5f19107-6506-4e5a-8b9f-084e8bdc7a13",
   "metadata": {},
   "outputs": [],
   "source": [
    "import cadquery as cq\n",
    "from cadquery import exporters, Sketch, Location, Vector\n",
    "\n",
    "from jupyter_cadquery import (\n",
    "    versions,\n",
    "    show, PartGroup, Part, \n",
    "    get_viewer, close_viewer, get_viewers, close_viewers, open_viewer, set_defaults, get_defaults, open_viewer,\n",
    "    get_pick,\n",
    ")\n",
    "\n",
    "from jupyter_cadquery.replay import replay, enable_replay, disable_replay\n",
    "\n",
    "enable_replay(False)\n",
    "\n",
    "set_defaults(\n",
    "    cad_width=640, \n",
    "    height=480, \n",
    ")\n",
    "\n",
    "print()\n",
    "versions()"
   ]
  },
  {
   "cell_type": "markdown",
   "id": "73238ce2-a7be-4d2a-8d74-b29af483af9b",
   "metadata": {},
   "source": [
    "## Viewer"
   ]
  },
  {
   "cell_type": "code",
   "execution_count": null,
   "id": "b0d6ed70-74de-425e-9348-9f50b492bd92",
   "metadata": {},
   "outputs": [],
   "source": [
    "cv = open_viewer(\"Assembly\", cad_width=850, height=1240)\n",
    "set_defaults(viewer=\"Assembly\")"
   ]
  },
  {
   "cell_type": "markdown",
   "id": "925735c1-28d0-4aa1-8ae0-a1ddc7d85daf",
   "metadata": {},
   "source": [
    "## Constants\n",
    "### General"
   ]
  },
  {
   "cell_type": "code",
   "execution_count": null,
   "id": "d6808eb7-5680-4607-a66e-de5ac78fd667",
   "metadata": {},
   "outputs": [],
   "source": [
    "USE_3X5 = True\n",
    "BOTTOM_PLATE_HEIGHT = 2\n",
    "BOTTOM_PLATE_INDENTATION = 1\n",
    "PCB_BOTTOM_SPACING = 2.4\n",
    "PCB_HEIGHT = 1.6\n",
    "PCB_SWITCH_PLATE_SPACING = 0.9\n",
    "SWITCH_PLATE_HEIGHT = 1.2\n",
    "SWITCH_BORDER_HEIGHT = 5\n",
    "\n",
    "HOLES = [((96.9, 107.88), 2, 0), \n",
    "         ((175.28, 86.28), 2, 0), \n",
    "         ((135.05, 37), 3, BOTTOM_PLATE_HEIGHT + 3)]"
   ]
  },
  {
   "cell_type": "markdown",
   "id": "4b8e101c-2278-40f8-9586-5325ad07358a",
   "metadata": {},
   "source": [
    "### Wired Case"
   ]
  },
  {
   "cell_type": "code",
   "execution_count": null,
   "id": "9e55d72c-f908-49de-89fe-4ba118240d11",
   "metadata": {},
   "outputs": [],
   "source": [
    "OLED_SPACING = 8\n",
    "ACRYLIC_GLASS_HEIGHT = 3\n",
    "WIRED_MCU_USB_OFFSET = 2.5"
   ]
  },
  {
   "cell_type": "markdown",
   "id": "ced2490e-0176-4b97-9afd-8c364a30cd9d",
   "metadata": {},
   "source": [
    "### Wireless Case"
   ]
  },
  {
   "cell_type": "code",
   "execution_count": null,
   "id": "106a0ea5-b992-4b1d-a7e2-557d6b0a00af",
   "metadata": {},
   "outputs": [],
   "source": [
    "LCD_COVER_HEIGHT = 0.8\n",
    "WIRELESS_MCU_USB_OFFSET = 4"
   ]
  },
  {
   "cell_type": "markdown",
   "id": "ed506a52-cfeb-427b-a270-d551c61d80e9",
   "metadata": {
    "tags": []
   },
   "source": [
    "## Helper Functions"
   ]
  },
  {
   "cell_type": "markdown",
   "id": "0cf36a23-b42c-49c9-ac47-f27fae89bfc9",
   "metadata": {
    "tags": []
   },
   "source": [
    "### Generell"
   ]
  },
  {
   "cell_type": "code",
   "execution_count": null,
   "id": "04d27c8e-94d4-4703-899d-eefa20842f67",
   "metadata": {},
   "outputs": [],
   "source": [
    "def createCaseOutline():\n",
    "    outline = cq.Workplane(\"XY\")\\\n",
    "    .moveTo(78.77, -42.15)\\\n",
    "    .lineTo(78.77, -90.9)\\\n",
    "    .radiusArc((75.91, -96.0), 8)\\\n",
    "    .lineTo(70.57, -99.08)\\\n",
    "    .radiusArc((68.98, -105.04), -4.3)\\\n",
    "    .lineTo(82.05, -127.54)\\\n",
    "    .radiusArc((88.00, -129.13), -4.3)\\\n",
    "    .radiusArc((118.04, -116.55), 79.9)\\\n",
    "    .lineTo(176.41, -116.55)\\\n",
    "    .radiusArc((179.39, -113.61), -2.9)\\\n",
    "    .lineTo(179.39, -110.34)\\\n",
    "    .radiusArc((182.34, -107.39), 2.9)\\\n",
    "\n",
    "    if USE_3X5:\n",
    "        outline = outline.lineTo(194.62, -107.39)\\\n",
    "            .radiusArc((197.6, -104.45), -2.9)\\\n",
    "            .lineTo(197.6, -51.11)\\\n",
    "            .radiusArc((194.66, -48.13), -2.9)\\\n",
    "            .lineTo(182.34, -48.14)\n",
    "    else:\n",
    "        outline = outline.lineTo(213.03, -107.39)\\\n",
    "            .radiusArc((216.01, -104.45), -2.9)\\\n",
    "            .lineTo(216.01, -51.11)\\\n",
    "            .radiusArc((213.07, -48.13), -2.9)\\\n",
    "            .lineTo(182.34, -48.14)\n",
    "        \n",
    "    return outline.radiusArc((179.4, -45.16), 2.9)\\\n",
    "        .lineTo(179.4, -41.12)\\\n",
    "        .radiusArc((177.15, -37.56), -3.7)\\\n",
    "        .radiusArc((103.15, -37.15), -104.25)\\\n",
    "        .lineTo(83.77, -37.15)\\\n",
    "        .radiusArc((78.77, -42.15), -5)\\\n",
    "        .close()\n",
    "\n",
    "def createBottomPlate():\n",
    "    return createCaseOutline()\\\n",
    "        .faces()\\\n",
    "        .offset2D(-3)\\\n",
    "        .extrude(BOTTOM_PLATE_HEIGHT)\n",
    "\n",
    "def extrudeDisplayCover(case, offset):\n",
    "    workplane = case.faces(\">Z\").workplane().moveTo(78.77, -42.15)\\\n",
    "        .lineTo(78.77, -90.9)\\\n",
    "        .lineTo(103.15, -90.9)\\\n",
    "        .lineTo(103.15, -37.15)\\\n",
    "        .lineTo(83.77, -37.15)\\\n",
    "        .radiusArc((78.77, -42.15), -5)\\\n",
    "        .close()\\\n",
    "        .workplane(offset=offset)\n",
    "    return workplane.moveTo(82.77, -42.15)\\\n",
    "    .lineTo(82.77, -85.9)\\\n",
    "    .lineTo(103.15, -85.9)\\\n",
    "    .lineTo(103.15, -39.15)\\\n",
    "    .lineTo(83.77, -39.15)\\\n",
    "    .radiusArc((82.77, -42.15), -5)\\\n",
    "    .close()\\\n",
    "    .loft(combine=True)\n",
    "\n",
    "def cutBottomPlate(case):\n",
    "    return case.cut(createBottomPlate())\n",
    "\n",
    "def cutSwitchHoles(case):\n",
    "    innerZOffset = BOTTOM_PLATE_HEIGHT + PCB_BOTTOM_SPACING + PCB_HEIGHT + PCB_SWITCH_PLATE_SPACING\n",
    "    innerCutout = cq.importers.importDXF('outlines/switch_outline.dxf' if USE_3X5 else 'outlines/switch_outline_3x6.dxf', tol=1e-3)\\\n",
    "        .wires()\\\n",
    "        .toPending()\\\n",
    "        .faces()\\\n",
    "        .extrude(SWITCH_PLATE_HEIGHT)\\\n",
    "        .translate((0, 0, innerZOffset))\n",
    "    outerZOffset = BOTTOM_PLATE_HEIGHT + PCB_BOTTOM_SPACING + PCB_HEIGHT\n",
    "    outerCutout = cq.importers.importDXF('outlines/switch_outline.dxf' if USE_3X5 else 'outlines/switch_outline_3x6.dxf', tol=1e-3)\\\n",
    "        .wires()\\\n",
    "        .toPending()\\\n",
    "        .faces()\\\n",
    "        .offset2D(1)\\\n",
    "        .extrude(PCB_SWITCH_PLATE_SPACING)\\\n",
    "        .translate((0, 0, outerZOffset))\n",
    "    return case.cut(innerCutout).cut(outerCutout)\n",
    "\n",
    "def cutKeycapsBorder(case):\n",
    "    zOffset = BOTTOM_PLATE_HEIGHT + PCB_BOTTOM_SPACING + PCB_HEIGHT + SWITCH_PLATE_HEIGHT + PCB_SWITCH_PLATE_SPACING\n",
    "    cutout = cq.importers.importDXF('outlines/keycaps_outline.dxf' if USE_3X5 else 'outlines/keycaps_outline_3x6.dxf', tol=1e-3)\\\n",
    "        .wires()\\\n",
    "        .toPending()\\\n",
    "        .faces()\\\n",
    "        .extrude(SWITCH_BORDER_HEIGHT + 5)\\\n",
    "        .translate((0, 0, zOffset))\n",
    "    return case.cut(cutout)\n",
    "\n",
    "def cutTrackPointShieldIndentation(case):\n",
    "    zOffset = BOTTOM_PLATE_HEIGHT + PCB_BOTTOM_SPACING + PCB_HEIGHT \n",
    "    workplane = case.faces(\"<Z\").workplane()\n",
    "    mainCutout = workplane.moveTo(137.93, 93.41)\\\n",
    "        .lineTo(137.93, 111.29)\\\n",
    "        .lineTo(174.16, 111.29)\\\n",
    "        .lineTo(174.16, 93.41)\\\n",
    "        .close()\\\n",
    "        .extrude(-3, combine=False)\\\n",
    "        .translate((0, 0, zOffset))\n",
    "    con1Cutout = workplane.moveTo(133, 90)\\\n",
    "        .lineTo(133, 111.29)\\\n",
    "        .lineTo(138, 111.29)\\\n",
    "        .lineTo(138, 90)\\\n",
    "        .close()\\\n",
    "        .extrude(-PCB_SWITCH_PLATE_SPACING, combine=False)\\\n",
    "        .translate((0, 0, zOffset))\n",
    "    con2Cutout = workplane.moveTo(133, 90)\\\n",
    "        .lineTo(133, 111.29)\\\n",
    "        .lineTo(164, 111.29)\\\n",
    "        .lineTo(164, 90)\\\n",
    "        .close()\\\n",
    "        .extrude(-PCB_SWITCH_PLATE_SPACING, combine=False)\\\n",
    "        .translate((0, 0, zOffset))\n",
    "    return case.cut(mainCutout).cut(con1Cutout).cut(con2Cutout)\n",
    "\n",
    "def cutPcb(case):\n",
    "    zOffset = BOTTOM_PLATE_HEIGHT\n",
    "    cutout = cq.importers.importDXF('outlines/pcb_outline.dxf' if USE_3X5 else 'outlines/pcb_outline_3x6.dxf', tol=1e-3)\\\n",
    "        .wires()\\\n",
    "        .toPending()\\\n",
    "        .faces()\\\n",
    "        .extrude(PCB_BOTTOM_SPACING + PCB_HEIGHT)\\\n",
    "        .translate((0, 0, zOffset))\n",
    "    return case.cut(cutout)\n",
    "\n",
    "\n",
    "def cutUsbCConnector(case, usbPortOffset, outerDepth = -2.5):\n",
    "    zOrigin = BOTTOM_PLATE_HEIGHT + PCB_BOTTOM_SPACING + usbPortOffset\n",
    "    workplane = case.faces(\"<Y[3]\").workplane(centerOption=\"ProjectedOrigin\", origin=(92.41, -41.75, zOrigin))\n",
    "    inner = workplane.rect(9, 3.5).extrude(-6, combine=False).edges(\"-Y\").fillet(1.7)\n",
    "    outer = workplane.rect(12, 7).extrude(outerDepth, combine=False).edges(\"-Y\").fillet(3.4)\n",
    "    return case.cut(inner).cut(outer)\n",
    "\n",
    "def cutMountingHoles(case):\n",
    "    for hole in HOLES:\n",
    "        case = cutHole(case, hole[0], diameter = hole[1], depth = hole[2])\n",
    "    return case\n",
    "\n",
    "def cutTrackpointHole(case):\n",
    "    result = cutHole(case,   (121.23, 65.75), diameter = 2)\n",
    "    result = cutHole(result, (121.23, 75.3), diameter = 2)\n",
    "    result = cutHole(result, (121.23, 85.75), diameter = 2)\n",
    "    return result\n",
    "\n",
    "def cutHole(case, pnt, diameter = 2, depth = 0):\n",
    "    defaultDepth = BOTTOM_PLATE_HEIGHT + PCB_BOTTOM_SPACING + PCB_HEIGHT + SWITCH_PLATE_HEIGHT + PCB_SWITCH_PLATE_SPACING\n",
    "    d = defaultDepth if depth == 0 else depth\n",
    "    return case.faces(\"<Z\").workplane().moveTo(pnt[0], pnt[1]).hole(diameter, d)\n",
    "\n",
    "def createBaseCase():\n",
    "    height = SWITCH_BORDER_HEIGHT\\\n",
    "            + SWITCH_PLATE_HEIGHT\\\n",
    "            + PCB_SWITCH_PLATE_SPACING\\\n",
    "            + PCB_HEIGHT\\\n",
    "            + PCB_BOTTOM_SPACING\\\n",
    "            + BOTTOM_PLATE_HEIGHT\n",
    "    return createCaseOutline()\\\n",
    "        .faces()\\\n",
    "        .extrude(height)"
   ]
  },
  {
   "cell_type": "markdown",
   "id": "27af8617-aeff-4cd9-9399-d941dc5df1e8",
   "metadata": {
    "tags": []
   },
   "source": [
    "### Bottom Plate"
   ]
  },
  {
   "cell_type": "code",
   "execution_count": null,
   "id": "161c4f60-e11b-49f9-9c37-a7212c0f5bad",
   "metadata": {},
   "outputs": [],
   "source": [
    "def buildBottomPlateRight():\n",
    "    bottomPlateRight = createBottomPlate()\n",
    "    bottomPlateRight = cutHole(bottomPlateRight, (117.16, 100.71)) # Reset Button\n",
    "\n",
    "    # Rubber Pads\n",
    "    bottomPlateRight = cutHole(bottomPlateRight, (89.3, 47.24), diameter=10.1, depth=BOTTOM_PLATE_INDENTATION)\n",
    "    bottomPlateRight = cutHole(bottomPlateRight, (167.16, 44.34), diameter=10.1, depth=BOTTOM_PLATE_INDENTATION)\n",
    "    bottomPlateRight = cutHole(bottomPlateRight, (88.28, 115.6), diameter=10.1, depth=BOTTOM_PLATE_INDENTATION)\n",
    "    bottomPlateRight = cutHole(bottomPlateRight, (187.00, 96.00), diameter=10.1, depth=BOTTOM_PLATE_INDENTATION)\n",
    "    \n",
    "    # Mounting Holes\n",
    "    for hole in HOLES:\n",
    "        bottomPlateRight = bottomPlateRight.faces(\"<Z[2]\")\\\n",
    "            .workplane(centerOption=\"ProjectedOrigin\", origin=(hole[0][0], -hole[0][1], 0))\\\n",
    "            .cskHole(2, 3, 82, depth=None)\n",
    "\n",
    "    return bottomPlateRight\n",
    "\n",
    "def buildBottomPlateLeft():\n",
    "    return buildBottomPlateRight().mirror(mirrorPlane=\"ZY\", basePointVector=(0, 0, 0))"
   ]
  },
  {
   "cell_type": "markdown",
   "id": "709e595b-a35b-4c4c-ad83-eba5af945930",
   "metadata": {
    "tags": []
   },
   "source": [
    "### Wired Case"
   ]
  },
  {
   "cell_type": "code",
   "execution_count": null,
   "id": "2644d593-64c3-4fde-a31f-e899fd6c58a9",
   "metadata": {},
   "outputs": [],
   "source": [
    "def cutMcuAndAudioJackIndentation(case):\n",
    "    zOffset = BOTTOM_PLATE_HEIGHT + PCB_BOTTOM_SPACING + PCB_HEIGHT\n",
    "    workplane = case.faces(\"<Z\").workplane()\n",
    "    cutout = workplane.moveTo(82.78,88.81)\\\n",
    "        .lineTo(82.78, 96.18)\\\n",
    "        .lineTo(101.51, 96.18)\\\n",
    "        .lineTo(101.51, 88.81)\\\n",
    "        .close()\\\n",
    "        .extrude(-(0.2 + PCB_SWITCH_PLATE_SPACING), combine=False)\\\n",
    "        .translate((0, 0, zOffset))\n",
    "    audioJackIndentation = workplane.moveTo(82.78,82.42)\\\n",
    "        .lineTo(82.78, 88.81)\\\n",
    "        .lineTo(101.51, 88.81)\\\n",
    "        .lineTo(101.51, 82.42)\\\n",
    "        .close()\\\n",
    "        .extrude(-(5.5 + PCB_SWITCH_PLATE_SPACING), combine=False)\\\n",
    "        .translate((0, 0, zOffset))\n",
    "    mcuIndentation = workplane.moveTo(82.78,42.26)\\\n",
    "        .lineTo(82.78, 82.42)\\\n",
    "        .lineTo(101.51, 82.42)\\\n",
    "        .lineTo(101.51, 42.26)\\\n",
    "        .close()\\\n",
    "        .extrude(-(OLED_SPACING + 1), combine=False)\\\n",
    "        .translate((0, 0, zOffset))\n",
    "    \n",
    "    return case.cut(cutout).cut(audioJackIndentation).cut(mcuIndentation)\n",
    "\n",
    "def cutAcrylicGlassWindow(case):\n",
    "    top = case.faces(\">Z\").vertices().first().val().Center().z - ACRYLIC_GLASS_HEIGHT\n",
    "    cutout = cq.Workplane(\"XY\")\\\n",
    "        .moveTo(86.38, -48.14)\\\n",
    "        .lineTo(86.38, -75.14)\\\n",
    "        .lineTo(98.38, -75.14)\\\n",
    "        .lineTo(98.38, -48.14)\\\n",
    "        .close()\\\n",
    "        .extrude(ACRYLIC_GLASS_HEIGHT, combine = False)\\\n",
    "        .translate((0, 0, top))\n",
    "    return case.cut(cutout)\n",
    "\n",
    "def cutAudioJackHole(case, rightSide):\n",
    "    jackRadius = 2.5\n",
    "    shieldPcbHeight = 0.6\n",
    "    zOffset = BOTTOM_PLATE_HEIGHT + PCB_BOTTOM_SPACING + jackRadius - shieldPcbHeight\n",
    "    yOffset = -83.81 if rightSide else -85.55\n",
    "    side = case.faces(\">X[0]\").workplane(centerOption=\"ProjectedOrigin\", origin=(82.77, yOffset, zOffset))\n",
    "    inner = side.circle(2.5).extrude(-5,combine=False)\n",
    "    outer = side.circle(3.7).extrude(-2,combine=False)\n",
    "    slideCutout = cq.Workplane(\"XY\").moveTo(82.00, yOffset - jackRadius)\\\n",
    "        .lineTo(82.00, yOffset + jackRadius)\\\n",
    "        .lineTo(83.80, yOffset + jackRadius)\\\n",
    "        .lineTo(83.80, yOffset - jackRadius)\\\n",
    "        .close()\\\n",
    "        .extrude(zOffset + jackRadius, combine=False)\n",
    "    \n",
    "    return case.cut(inner).cut(outer).cut(slideCutout)\n",
    "\n",
    "def buildWiredBaseCase():\n",
    "    displayExtrusion = OLED_SPACING + ACRYLIC_GLASS_HEIGHT - SWITCH_BORDER_HEIGHT - PCB_SWITCH_PLATE_SPACING - SWITCH_PLATE_HEIGHT\n",
    "    case = createBaseCase()\n",
    "    case = extrudeDisplayCover(case, displayExtrusion).edges().fillet(1.9)\n",
    "    case = cutPcb(case)\n",
    "    case = cutKeycapsBorder(case)\n",
    "    case = cutSwitchHoles(case)\n",
    "    case = cutBottomPlate(case)\n",
    "    case = cutTrackPointShieldIndentation(case)\n",
    "    case = cutAcrylicGlassWindow(case)\n",
    "    case = cutUsbCConnector(case, WIRED_MCU_USB_OFFSET)\n",
    "    case = cutMcuAndAudioJackIndentation(case)\n",
    "    case = cutMountingHoles(case)\n",
    "    case = cutTrackpointHole(case)\n",
    "    return case\n",
    "\n",
    "def buildWiredCaseRight():\n",
    "    case = buildWiredBaseCase()\n",
    "    return cutAudioJackHole(case, rightSide=True)\n",
    "\n",
    "def buildWiredCaseLeft():\n",
    "    case = buildWiredBaseCase()\n",
    "    case = cutAudioJackHole(case, rightSide=False)\n",
    "    return case.mirror(mirrorPlane=\"ZY\", basePointVector=(0, 0, 0))"
   ]
  },
  {
   "cell_type": "markdown",
   "id": "0048230d-173f-4981-81c4-7f0130471291",
   "metadata": {
    "tags": []
   },
   "source": [
    "### Wireless Case"
   ]
  },
  {
   "cell_type": "code",
   "execution_count": null,
   "id": "c3d1b59c-2066-4a9a-b20f-927211c9cbe4",
   "metadata": {},
   "outputs": [],
   "source": [
    "def cutLcd(case):\n",
    "    lcdWith = 14\n",
    "    lcdHeight = 32\n",
    "    lcdHeightExtra = 5 # for bending the FCC\n",
    "    top = case.faces(\">Z\").vertices().first().val().Center().z\n",
    "    lcd = cq.Workplane(\"XY\", origin=(0, 0, 0))\\\n",
    "        .box(lcdWith, lcdHeight + lcdHeightExtra, LCD_COVER_HEIGHT, centered=False)\\\n",
    "        .faces(\">Z\")\\\n",
    "        .workplane(origin = (1.6, lcdHeight + lcdHeightExtra - 25.2 - 1.6, 0))\\\n",
    "        .box(10.7, 25.2, 1, centered=False)\\\n",
    "        .translate((85.38, -(76 + lcdHeightExtra), top - (1 + LCD_COVER_HEIGHT)))\n",
    "    return case.cut(lcd)\n",
    "\n",
    "def cutMWirelessMcuAndPowerSwitchIndentation(case):\n",
    "    top = case.faces(\">Z\").vertices().first().val().Center().z\n",
    "    top = case.faces(\">Z\").vertices().first().val().Center().z\n",
    "    zOffset = BOTTOM_PLATE_HEIGHT + PCB_BOTTOM_SPACING + PCB_HEIGHT\n",
    "    leverDistance = 2.2\n",
    "    workplane = case.faces(\"<Z\").workplane()\n",
    "    cutout = workplane.moveTo(82.78,88.81)\\\n",
    "        .lineTo(82.78, 96.18)\\\n",
    "        .lineTo(101.51, 96.18)\\\n",
    "        .lineTo(101.51, 88.81)\\\n",
    "        .close()\\\n",
    "        .extrude(-2.6, combine=False)\\\n",
    "        .translate((0, 0, zOffset))\n",
    "    audioJackIndentation = workplane.moveTo(82.78,82.42)\\\n",
    "        .lineTo(82.78, 88.81)\\\n",
    "        .lineTo(101.51, 88.81)\\\n",
    "        .lineTo(101.51, 82.42)\\\n",
    "        .close()\\\n",
    "        .extrude(-2.6, combine=False)\\\n",
    "        .translate((0, 0, zOffset))\n",
    "    mcuIndentation = workplane.moveTo(82.78,42.26)\\\n",
    "        .lineTo(82.78, 82.42)\\\n",
    "        .lineTo(101.51, 82.42)\\\n",
    "        .lineTo(101.51, 42.26)\\\n",
    "        .close()\\\n",
    "        .extrude(-(top - (1 + LCD_COVER_HEIGHT)),combine=False)\n",
    "    switch = cq.Workplane(\"XY\")\\\n",
    "        .moveTo(82.63, -87.49)\\\n",
    "        .lineTo(82.63, -97.19)\\\n",
    "        .lineTo(88.14, -97.19)\\\n",
    "        .lineTo(88.14, -87.49)\\\n",
    "        .close()\\\n",
    "        .extrude(BOTTOM_PLATE_HEIGHT + PCB_BOTTOM_SPACING + PCB_HEIGHT + 4, combine=False)\n",
    "    s1 = Sketch().rect(3.5,2.2).vertices().fillet(0.2)\n",
    "    s2 = Sketch().rect(26, 9).vertices().fillet(0.2)\n",
    "    switchLeverCurout = result = cq.Workplane(\"YZ\")\\\n",
    "        .placeSketch(s1, s2.moved(Location(Vector(8.5, 1.5, 8))))\\\n",
    "        .loft()\\\n",
    "        .rotate((0,0,0), (0,1,0), 180).translate((82.92, -92.28, zOffset + leverDistance))\n",
    "\n",
    "    return case.cut(cutout)\\\n",
    "            .cut(audioJackIndentation)\\\n",
    "            .cut(mcuIndentation)\\\n",
    "            .cut(switch)\\\n",
    "            .cut(switchLeverCurout)\n",
    "\n",
    "def buildWirelessCaseRight():    \n",
    "    caseWireless = createBaseCase().edges().fillet(2)\n",
    "    caseWireless = cutPcb(caseWireless)\n",
    "    caseWireless = cutKeycapsBorder(caseWireless)\n",
    "    caseWireless = cutSwitchHoles(caseWireless)\n",
    "    caseWireless = cutBottomPlate(caseWireless)\n",
    "    caseWireless = cutTrackPointShieldIndentation(caseWireless)\n",
    "    caseWireless = cutUsbCConnector(caseWireless, WIRELESS_MCU_USB_OFFSET, outerDepth=-10)\n",
    "    caseWireless = cutMountingHoles(caseWireless)\n",
    "    caseWireless = cutLcd(caseWireless)\n",
    "    caseWireless = cutMWirelessMcuAndPowerSwitchIndentation(caseWireless)\n",
    "    return caseWireless\n",
    "\n",
    "def buildWirelessCaseLeft():\n",
    "    case = buildWirelessCaseRight()\n",
    "    return case.mirror(mirrorPlane=\"ZY\", basePointVector=(0, 0, 0))"
   ]
  },
  {
   "cell_type": "markdown",
   "id": "63c7ed58-7412-4ab4-9c60-58ee421e3b02",
   "metadata": {
    "tags": []
   },
   "source": [
    "## Build & Export"
   ]
  },
  {
   "cell_type": "markdown",
   "id": "5d6b3a41-0f21-46f7-9f1c-41b45e441975",
   "metadata": {
    "tags": []
   },
   "source": [
    "### Bottom Plate"
   ]
  },
  {
   "cell_type": "code",
   "execution_count": null,
   "id": "47e65b8c-6648-4f81-9630-895f16216876",
   "metadata": {},
   "outputs": [],
   "source": [
    "bottomPlateRight = buildBottomPlateRight()\n",
    "bottomPlateLeft = buildBottomPlateLeft()"
   ]
  },
  {
   "cell_type": "code",
   "execution_count": null,
   "id": "5df5078d-6650-46f1-a683-a261d5cce1f3",
   "metadata": {},
   "outputs": [],
   "source": [
    "exporters.export(bottomPlateRight, 'output/bottomPlate_right_3x5.stl' if USE_3X5 else 'output/bottomPlate_right_3x6.stl')\n",
    "exporters.export(bottomPlateLeft, 'output/bottomPlate_left_3x5.stl' if USE_3X5 else 'output/bottomPlate_left_3x6.stl')"
   ]
  },
  {
   "cell_type": "markdown",
   "id": "37e38089-6f71-42eb-bf48-9221e5c63a33",
   "metadata": {
    "tags": []
   },
   "source": [
    "### Wired Case"
   ]
  },
  {
   "cell_type": "code",
   "execution_count": null,
   "id": "31a02428-b3cd-4951-8a1c-013636bd884b",
   "metadata": {},
   "outputs": [],
   "source": [
    "wiredCaseRight = buildWiredCaseRight()\n",
    "wiredCaseLeft = buildWiredCaseLeft()"
   ]
  },
  {
   "cell_type": "code",
   "execution_count": null,
   "id": "b2a1c02a-9c82-40a8-b758-225a4a37a1ec",
   "metadata": {},
   "outputs": [],
   "source": [
    "exporters.export(wiredCaseRight, 'output/case_wired_right_3x5.stl' if USE_3X5 else 'output/case_wired_right_3x6.stl')\n",
    "exporters.export(wiredCaseLeft, 'output/case_wired_left_3x5.stl' if USE_3X5 else 'output/case_wired_left_3x6.stl')"
   ]
  },
  {
   "cell_type": "code",
   "execution_count": null,
   "id": "30d521ad-8105-4f34-9f6a-de27bf8e653a",
   "metadata": {},
   "outputs": [],
   "source": [
    "all = (cq.Assembly()\\\n",
    "       .add(wiredCaseRight, name=\"caseRight\", color=cq.Color(\"paleturquoise3\"))\\\n",
    "       .add(wiredCaseLeft, name=\"caseLeft\", color=cq.Color(\"paleturquoise3\"))\\\n",
    "       .add(bottomPlateRight, name=\"plate\", color=cq.Color(\"paleturquoise4\"))\n",
    "      )\n",
    "show(all)"
   ]
  },
  {
   "cell_type": "markdown",
   "id": "8b024d1e-2899-4e46-bf3a-2a84039e1b3d",
   "metadata": {
    "tags": []
   },
   "source": [
    "### Wireless Case"
   ]
  },
  {
   "cell_type": "code",
   "execution_count": null,
   "id": "2ec5f1d6-04c4-4fd5-9a97-9096d23d1ee5",
   "metadata": {},
   "outputs": [],
   "source": [
    "wirelessCaseRight = buildWirelessCaseRight()\n",
    "wirelessCaseLeft = buildWirelessCaseLeft()"
   ]
  },
  {
   "cell_type": "code",
   "execution_count": null,
   "id": "9b72f91b-a24d-4a3e-8d23-f8970670ca80",
   "metadata": {},
   "outputs": [],
   "source": [
    "exporters.export(wirelessCaseRight, 'output/case_wireless_right_3x5.stl' if USE_3X5 else 'output/case_wireless_right_3x6.stl')\n",
    "exporters.export(wirelessCaseLeft, 'output/case_wireless_left_3x5.stl' if USE_3X5 else 'output/case_wireless_left_3x6.stl')"
   ]
  },
  {
   "cell_type": "code",
   "execution_count": null,
   "id": "50c2c219-b540-49a2-802e-b737bf2844bd",
   "metadata": {},
   "outputs": [],
   "source": [
    "all = (cq.Assembly()\\\n",
    "       .add(wirelessCaseRight, name=\"caseRight\", color=cq.Color(\"paleturquoise3\"))\\\n",
    "       .add(wirelessCaseLeft, name=\"caseLeft\", color=cq.Color(\"paleturquoise3\"))\\\n",
    "       .add(bottomPlateRight, name=\"plate\", color=cq.Color(\"paleturquoise4\"))\n",
    "      )\n",
    "show(all)"
   ]
  }
 ],
 "metadata": {
  "kernelspec": {
   "display_name": "Python 3 (ipykernel)",
   "language": "python",
   "name": "python3"
  },
  "language_info": {
   "codemirror_mode": {
    "name": "ipython",
    "version": 3
   },
   "file_extension": ".py",
   "mimetype": "text/x-python",
   "name": "python",
   "nbconvert_exporter": "python",
   "pygments_lexer": "ipython3",
   "version": "3.9.12"
  }
 },
 "nbformat": 4,
 "nbformat_minor": 5
}
